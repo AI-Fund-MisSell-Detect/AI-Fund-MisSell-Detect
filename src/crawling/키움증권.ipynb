{
 "cells": [
  {
   "cell_type": "code",
   "execution_count": 10,
   "id": "4f69ebda",
   "metadata": {},
   "outputs": [],
   "source": [
    "from selenium import webdriver\n",
    "from selenium.webdriver.chrome.service import Service\n",
    "from webdriver_manager.chrome import ChromeDriverManager\n",
    "from selenium.webdriver.support.ui import WebDriverWait\n",
    "from selenium.webdriver.support import expected_conditions as EC\n",
    "from selenium.common.exceptions import TimeoutException\n",
    "from selenium.common.exceptions import NoSuchWindowException\n",
    "from selenium.webdriver.common.by import By\n",
    "from bs4 import BeautifulSoup\n",
    "import time\n",
    "import re"
   ]
  },
  {
   "cell_type": "code",
   "execution_count": 26,
   "id": "b2324f0f",
   "metadata": {},
   "outputs": [],
   "source": [
    "def get_chrome_driver():\n",
    "\n",
    "    chrome_options = webdriver.ChromeOptions()\n",
    "    \n",
    "    driver = webdriver.Chrome(\n",
    "        service = Service(ChromeDriverManager().install()),\n",
    "        options = chrome_options\n",
    "    \n",
    "    )\n",
    "    return driver\n"
   ]
  },
  {
   "cell_type": "code",
   "execution_count": 27,
   "id": "02c77a7a",
   "metadata": {},
   "outputs": [],
   "source": [
    "def get_unique_product_urls(driver):\n",
    "    unique_urls = []\n",
    "    for page_num in range(1, 11):  # 페이지 1부터 10까지\n",
    "        kiwom_URL = f\"https://www.kiwoom.com/wm/fnd/fs010/fndSrchView?dummyVal=0\"\n",
    "        driver.get(kiwom_URL)\n",
    "        time.sleep(1)  # 페이지가 로드되기를 기다립니다.\n",
    "        \n",
    "        # 페이지 번호를 클릭하여 해당 페이지로 이동합니다.\n",
    "        page_link = WebDriverWait(driver, 10).until(EC.presence_of_element_located((By.XPATH, f\"//a[text()='{page_num}']\")))\n",
    "        driver.execute_script(\"arguments[0].click();\", page_link)\n",
    "        \n",
    "        page = driver.page_source\n",
    "        soup = BeautifulSoup(page, 'html.parser')\n",
    "        funds = soup.find_all(class_='fund-name')\n",
    "        \n",
    "        urls = []\n",
    "        for fund in funds:\n",
    "            if fund.has_attr('href'):\n",
    "                urls.append(fund['href'])\n",
    "            else:\n",
    "                urls.append(\"No href attribute found\")\n",
    "        \n",
    "        # 중복된 URL을 제거하고 unique_urls에 추가합니다.\n",
    "        unique_urls.extend(list(set(urls)))\n",
    "    return unique_urls"
   ]
  },
  {
   "cell_type": "code",
   "execution_count": 28,
   "id": "3c1b5a05",
   "metadata": {},
   "outputs": [],
   "source": [
    "def extract_numbers_from_urls(urls):\n",
    "    pattern = r\"(\\d+)(?:'\\);$)\"\n",
    "    numbers = [re.search(pattern, url).group(1) for url in urls if re.search(pattern, url)]\n",
    "    return numbers\n"
   ]
  },
  {
   "cell_type": "code",
   "execution_count": 32,
   "id": "59877e85",
   "metadata": {},
   "outputs": [],
   "source": [
    "def visit_popup_pages(numbers):\n",
    "    popup_urls = []\n",
    "    for number in numbers:\n",
    "        url = f\"https://www.kiwoom.com/wm/fnd/fs010/fndDetailPop?salFundCd={number}\"\n",
    "        popup_urls.append(url)\n",
    "    return popup_urls"
   ]
  },
  {
   "cell_type": "code",
   "execution_count": 30,
   "id": "5fedf75c",
   "metadata": {},
   "outputs": [],
   "source": [
    "def download_documents(driver, popup_urls):\n",
    "    for url in popup_urls:\n",
    "        driver.get(url)\n",
    "        time.sleep(3)\n",
    "        \n",
    "        try:\n",
    "            # 약관 다운로드 버튼 클릭\n",
    "            agreement_button = WebDriverWait(driver, 10).until(EC.presence_of_element_located((By.CSS_SELECTOR, \"#contentMain > div > div > section > div.modal-body > div > div:nth-child(4) > div > div.pdf-list-content > ul > li:nth-child(1) > a\")))\n",
    "            agreement_button.click()\n",
    "\n",
    "            # 투자 설명서 다운로드 버튼 클릭\n",
    "            prospectus_button = WebDriverWait(driver, 10).until(EC.presence_of_element_located((By.CSS_SELECTOR, \"#contentMain > div > div > section > div.modal-body > div > div:nth-child(4) > div > div.pdf-list-content > ul > li:nth-child(2) > a\")))\n",
    "            prospectus_button.click()\n",
    "     \n",
    "        except Exception as e:\n",
    "            print(f\"페이지 {url}에서 약관 또는 투자 설명서를 찾을 수 없습니다.\")\n",
    "            print(e)"
   ]
  },
  {
   "cell_type": "code",
   "execution_count": 33,
   "id": "0ba2208e",
   "metadata": {
    "scrolled": true
   },
   "outputs": [],
   "source": [
    "# main 함수 내에서 WebDriver를 visit_popup_pages 함수에 전달하지 않도록 수정합니다.\n",
    "def main():\n",
    "    # Chrome WebDriver 인스턴스를 가져옵니다.\n",
    "    driver = get_chrome_driver()\n",
    "    \n",
    "    # 펀드 상품 URL을 수집합니다.\n",
    "    unique_urls = get_unique_product_urls(driver)\n",
    "    \n",
    "    # 펀드 상품 번호를 추출합니다.\n",
    "    numbers = extract_numbers_from_urls(unique_urls)\n",
    "    \n",
    "    # 팝업 페이지를 방문합니다.\n",
    "    popup_urls = visit_popup_pages(numbers)\n",
    "    \n",
    "    # 문서를 다운로드합니다.\n",
    "    download_documents(driver, popup_urls)\n",
    "    \n",
    "    # WebDriver를 종료합니다.\n",
    "    driver.quit()\n",
    "\n",
    "# 메인 함수 실행\n",
    "if __name__ == \"__main__\":\n",
    "    main()"
   ]
  },
  {
   "cell_type": "code",
   "execution_count": null,
   "id": "26d998a4",
   "metadata": {},
   "outputs": [],
   "source": []
  }
 ],
 "metadata": {
  "kernelspec": {
   "display_name": "Python 3 (ipykernel)",
   "language": "python",
   "name": "python3"
  },
  "language_info": {
   "codemirror_mode": {
    "name": "ipython",
    "version": 3
   },
   "file_extension": ".py",
   "mimetype": "text/x-python",
   "name": "python",
   "nbconvert_exporter": "python",
   "pygments_lexer": "ipython3",
   "version": "3.11.5"
  }
 },
 "nbformat": 4,
 "nbformat_minor": 5
}
