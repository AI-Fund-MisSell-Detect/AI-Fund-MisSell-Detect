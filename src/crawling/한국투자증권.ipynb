{
 "cells": [
  {
   "cell_type": "code",
   "execution_count": 91,
   "id": "65ee18ef",
   "metadata": {
    "scrolled": true
   },
   "outputs": [],
   "source": [
    "from selenium.webdriver.support.ui import Select\n",
    "from selenium import webdriver\n",
    "from selenium.webdriver import ChromeOptions\n",
    "from selenium.webdriver.common.by import By\n",
    "from selenium.webdriver.chrome.service import Service\n",
    "import time\n",
    "import random\n",
    "\n",
    "options = ChromeOptions()\n",
    "# options.add_argument(\"headless\")\n",
    "\n",
    "# 기존 쿠키를 이용하여 드라이버 사용\n",
    "options.add_argument(\"--user-data-dir=/Users/subin/User Data\")\n",
    "driver = webdriver.Chrome(options=options)\n",
    "\n",
    "# 기존 다운로드 경로와 새 다운로드 경로 정의\n",
    "old_download_path = '/Users/subin/Downloads'\n",
    "new_download_path = '/Users/subin/Desktop/subin/한국투자증권'\n",
    "\n",
    "# 크롬 드라이버에 url 주소 넣고 실행\n",
    "driver.get('https://securities.koreainvestment.com/main/mall/openfund/FundSmartSearch.jsp')\n",
    "main_window = driver.current_window_handle\n",
    "# 페이지가 완전히 로딩되도록 기다림\n",
    "time.sleep(3)\n",
    "\n",
    "# 초기 fundnum 리스트 생성\n",
    "fundnum = []\n",
    "fundtitle = []\n",
    "\n",
    "for _ in range(35):\n",
    "    # 각 루프에서 10페이지씩 확인\n",
    "    for x in range(1, 11):\n",
    "        for i in range(1, 13):\n",
    "            fundname = driver.find_element(By.XPATH, f'//*[@id=\"tableList\"]/tbody/tr[{i}]/td[2]/strong')\n",
    "            onclick = fundname.get_attribute('onclick')\n",
    "            fundnum.append(onclick.split(\"'\")[3])\n",
    "            fundtitle.append(fundname.text)\n",
    "        if x == 10:  # x가 10인 경우에만 다음 페이지로 이동\n",
    "            driver.find_element(By.XPATH, '//*[@id=\"div_page\"]/a[3]').click()\n",
    "        else:\n",
    "            driver.find_element(By.XPATH, f'//*[@id=\"div_page\"]/span/a[{x+1}]').click()\n",
    "\n",
    "driver.quit()\n",
    "\n",
    "#2페이지\n",
    "#//*[@id=\"div_page\"]/span/a[2]\n",
    "\n",
    "#3페이지\n",
    "#//*[@id=\"div_page\"]/span/a[3]\n",
    "\n",
    "# 다음으로\n",
    "#//*[@id=\"div_page\"]/a[3]\n",
    "\n",
    "#12페이지\n",
    "#//*[@id=\"div_page\"]/span/a[2]"
   ]
  },
  {
   "cell_type": "code",
   "execution_count": 110,
   "id": "25f3ef44",
   "metadata": {},
   "outputs": [
    {
     "ename": "Error",
     "evalue": "Destination path '/Users/subin/Desktop/subin/한국투자증권/한투_피델리티지속가능인구테마증권자투자신탁(주식-재간접형).pdf' already exists",
     "output_type": "error",
     "traceback": [
      "\u001b[0;31m---------------------------------------------------------------------------\u001b[0m",
      "\u001b[0;31mError\u001b[0m                                     Traceback (most recent call last)",
      "Cell \u001b[0;32mIn[110], line 28\u001b[0m\n\u001b[1;32m     25\u001b[0m     \u001b[38;5;28;01mcontinue\u001b[39;00m\n\u001b[1;32m     27\u001b[0m \u001b[38;5;66;03m# 파일 이동\u001b[39;00m\n\u001b[0;32m---> 28\u001b[0m shutil\u001b[38;5;241m.\u001b[39mmove(os\u001b[38;5;241m.\u001b[39mpath\u001b[38;5;241m.\u001b[39mjoin(old_download_path, new_filename), new_download_path)\n",
      "File \u001b[0;32m~/anaconda3/lib/python3.11/shutil.py:823\u001b[0m, in \u001b[0;36mmove\u001b[0;34m(src, dst, copy_function)\u001b[0m\n\u001b[1;32m    820\u001b[0m     real_dst \u001b[38;5;241m=\u001b[39m os\u001b[38;5;241m.\u001b[39mpath\u001b[38;5;241m.\u001b[39mjoin(dst, _basename(src))\n\u001b[1;32m    822\u001b[0m     \u001b[38;5;28;01mif\u001b[39;00m os\u001b[38;5;241m.\u001b[39mpath\u001b[38;5;241m.\u001b[39mexists(real_dst):\n\u001b[0;32m--> 823\u001b[0m         \u001b[38;5;28;01mraise\u001b[39;00m Error(\u001b[38;5;124m\"\u001b[39m\u001b[38;5;124mDestination path \u001b[39m\u001b[38;5;124m'\u001b[39m\u001b[38;5;132;01m%s\u001b[39;00m\u001b[38;5;124m'\u001b[39m\u001b[38;5;124m already exists\u001b[39m\u001b[38;5;124m\"\u001b[39m \u001b[38;5;241m%\u001b[39m real_dst)\n\u001b[1;32m    824\u001b[0m \u001b[38;5;28;01mtry\u001b[39;00m:\n\u001b[1;32m    825\u001b[0m     os\u001b[38;5;241m.\u001b[39mrename(src, real_dst)\n",
      "\u001b[0;31mError\u001b[0m: Destination path '/Users/subin/Desktop/subin/한국투자증권/한투_피델리티지속가능인구테마증권자투자신탁(주식-재간접형).pdf' already exists"
     ]
    }
   ],
   "source": [
    "import os\n",
    "import shutil\n",
    "\n",
    "for j, title in zip(fundnum, fundtitle):\n",
    "    options = ChromeOptions()\n",
    "    # 기존 쿠키를 이용하여 드라이버 사용\n",
    "    options.add_argument(\"--user-data-dir=/Users/subin/User Data\")\n",
    "    driver = webdriver.Chrome(options=options)\n",
    "    \n",
    "    url = f'https://securities.koreainvestment.com/main/mall/openfund/FundInfo_Pop.jsp?cmd=TF02a0000001_New&pfundCd={j}'\n",
    "    driver.get(url)\n",
    "\n",
    "    element = driver.find_element(By.XPATH, \"//*[@id=\\\"content\\\"]/div[6]/div[3]/div[2]/div[2]/a\")\n",
    "    driver.execute_script(\"arguments[0].click();\", element)\n",
    "    time.sleep(random.randint(3,5))\n",
    "    driver.quit()\n",
    "    \n",
    "    # 파일 이름 변경\n",
    "    files = [f for f in os.listdir(old_download_path) if os.path.isfile(os.path.join(old_download_path, f))]\n",
    "    if files:\n",
    "        filename = max([old_download_path + '/' + f for f in files], key=os.path.getctime)\n",
    "        new_filename = f\"한투_{title}.pdf\"\n",
    "        os.rename(os.path.join(old_download_path, filename), os.path.join(old_download_path, new_filename))\n",
    "    else:\n",
    "        continue\n",
    "    \n",
    "    # 파일 이동\n",
    "    shutil.move(os.path.join(old_download_path, new_filename), new_download_path)"
   ]
  }
 ],
 "metadata": {
  "kernelspec": {
   "display_name": "Python 3 (ipykernel)",
   "language": "python",
   "name": "python3"
  },
  "language_info": {
   "codemirror_mode": {
    "name": "ipython",
    "version": 3
   },
   "file_extension": ".py",
   "mimetype": "text/x-python",
   "name": "python",
   "nbconvert_exporter": "python",
   "pygments_lexer": "ipython3",
   "version": "3.11.5"
  }
 },
 "nbformat": 4,
 "nbformat_minor": 5
}
