{
 "cells": [
  {
   "cell_type": "code",
   "execution_count": 4,
   "id": "61d91544",
   "metadata": {},
   "outputs": [],
   "source": [
    "from selenium import webdriver\n",
    "from selenium.webdriver.chrome.options import Options\n",
    "from selenium.webdriver.common.by import By\n",
    "import time\n",
    "import random\n",
    "\n",
    "# 크롬 드라이버 옵션 설정\n",
    "options = Options()\n",
    "#options.add_argument(\"--headless\") # 창을 열지 않는 옵션\n",
    "options.add_argument(\"window-size=1920,1080\") # 전체 화면\n",
    "options.add_experimental_option(\"detach\", True) #  컨트롤러를 닫더라도 브라우저를 닫지 않도록 설정\n",
    "driver = webdriver.Chrome(options=options)\n",
    "\n",
    "#집합투자규약 url : \"https://spot.wooribank.com/pot/Dream?withyou=OWMNG0044\"\n",
    "#투자 설명서 url: \"https://spot.wooribank.com/pot/Dream?withyou=OWMNG0045\"\n",
    "# url 설정 및 접속\n",
    "url = \"https://spot.wooribank.com/pot/Dream?withyou=OWMNG0045\"\n",
    "driver.get(url)\n",
    "time.sleep(random.uniform(1, 3))\n",
    "\n",
    "#페이지마다 동작을 실행하는 반복문\n",
    "for index, page in enumerate(range(1, 3), start=1): # 원하는 페이지에서 +1해야 됨\n",
    "    \n",
    "    # 페이지 내에서 pdf를 다운로드하는 반복문\n",
    "    for documents in range(1, 2): #11까지해야 10개가 다운로드 됨\n",
    "        xpath = '//*[@id=\"prm\"]/table/tbody/tr[{}]/td[3]/a/span'.format(documents)\n",
    "        pdf = driver.find_element(By.XPATH, xpath)\n",
    "        pdf.click()\n",
    "\n",
    "    #다른 페이지로 넘어가기\n",
    "    if index == 1:\n",
    "        nextpage = driver.find_element(By.XPATH, \"//*[@id='prm']/div[2]/a[10]\")\n",
    "        nextpage.click()\n",
    "    else: \n",
    "        nextpage = driver.find_element(By.XPATH, \"//*[@id='prm']/div[2]/a[12]\")\n",
    "        nextpage.click()\n",
    "    time.sleep(random.uniform(0.1, 0.5))\n"
   ]
  },
  {
   "cell_type": "code",
   "execution_count": 27,
   "id": "442af157",
   "metadata": {},
   "outputs": [
    {
     "name": "stdout",
     "output_type": "stream",
     "text": [
      "Size(width=1920, height=1080)\n",
      "Point(x=496, y=606)\n"
     ]
    }
   ],
   "source": [
    "\n",
    "\n",
    "# 현재 사용하는 모니터의 해상도 출력\n",
    "print(pyautogui.size())\n",
    "\n",
    "# 현재 마우스 커서의 위치 출력\n",
    "print(pyautogui.position())\n",
    "\n",
    "#현재 마우스의 정보를 알려줌\n",
    "pyautogui.mouseInfo()\n",
    "\n",
    "#1020 620 #아이디 위치\n",
    "#1020 680 #비밀번호 위치\n",
    "#1400 640 #로그인 버튼 위치\n",
    "#1010, 730 #마우스로 입력 버튼\n",
    "#926, 994 #S의 위치"
   ]
  },
  {
   "cell_type": "code",
   "execution_count": 2,
   "id": "5f0f8360",
   "metadata": {},
   "outputs": [
    {
     "ename": "NameError",
     "evalue": "name 'get_chrome_driver' is not defined",
     "output_type": "error",
     "traceback": [
      "\u001b[1;31m---------------------------------------------------------------------------\u001b[0m",
      "\u001b[1;31mNameError\u001b[0m                                 Traceback (most recent call last)",
      "Cell \u001b[1;32mIn[2], line 2\u001b[0m\n\u001b[0;32m      1\u001b[0m \u001b[38;5;28;01mfrom\u001b[39;00m \u001b[38;5;21;01mbs4\u001b[39;00m \u001b[38;5;28;01mimport\u001b[39;00m BeautifulSoup\n\u001b[1;32m----> 2\u001b[0m driver \u001b[38;5;241m=\u001b[39m get_chrome_driver()\n\u001b[0;32m      3\u001b[0m NAVER_NEWS_URL \u001b[38;5;241m=\u001b[39m \u001b[38;5;124m\"\u001b[39m\u001b[38;5;124mhttps://news.naver.com/main/main.naver?mode=LSD&mid=shm&sid1=105#&date=\u001b[39m\u001b[38;5;124m%\u001b[39m\u001b[38;5;124m2000:00:00&page=2\u001b[39m\u001b[38;5;124m\"\u001b[39m\n\u001b[0;32m      4\u001b[0m driver\u001b[38;5;241m.\u001b[39mget(NAVER_NEWS_URL)\n",
      "\u001b[1;31mNameError\u001b[0m: name 'get_chrome_driver' is not defined"
     ]
    }
   ],
   "source": [
    "from bs4 import BeautifulSoup\n",
    "driver = get_chrome_driver()\n",
    "NAVER_NEWS_URL = \"https://news.naver.com/main/main.naver?mode=LSD&mid=shm&sid1=105#&date=%2000:00:00&page=2\"\n",
    "driver.get(NAVER_NEWS_URL)\n",
    "# page_souce + BeautifulSoup 활용하기\n",
    "\n",
    "page = driver.page_source\n",
    "# html 구조 확인\n",
    "soup = BeautifulSoup(page, 'html.parser')\n",
    "soup"
   ]
  },
  {
   "cell_type": "code",
   "execution_count": null,
   "id": "ca7eb059",
   "metadata": {},
   "outputs": [],
   "source": []
  }
 ],
 "metadata": {
  "kernelspec": {
   "display_name": "Python 3 (ipykernel)",
   "language": "python",
   "name": "python3"
  },
  "language_info": {
   "codemirror_mode": {
    "name": "ipython",
    "version": 3
   },
   "file_extension": ".py",
   "mimetype": "text/x-python",
   "name": "python",
   "nbconvert_exporter": "python",
   "pygments_lexer": "ipython3",
   "version": "3.11.5"
  }
 },
 "nbformat": 4,
 "nbformat_minor": 5
}
